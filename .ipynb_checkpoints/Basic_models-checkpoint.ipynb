{
 "cells": [
  {
   "cell_type": "markdown",
   "id": "7a04b886",
   "metadata": {},
   "source": [
    "# Sentiment analysis for Hindi/English code-mixed text.\n",
    "\n",
    "<hr/>\n",
    "\n",
    "### CS521 - Project | Spring'23"
   ]
  },
  {
   "cell_type": "code",
   "execution_count": 23,
   "id": "baf16be1",
   "metadata": {},
   "outputs": [],
   "source": [
    "# All the main imports\n",
    "import pandas as pd\n",
    "import numpy as np\n",
    "import re\n",
    "import json\n",
    "\n",
    "\n",
    "# All the sklearn imports\n",
    "from sklearn import metrics\n",
    "from sklearn.base import BaseEstimator, ClassifierMixin\n",
    "from sklearn.feature_extraction.text import TfidfVectorizer\n",
    "from sklearn.feature_extraction.text import CountVectorizer\n",
    "from sklearn.linear_model import LogisticRegression\n",
    "from sklearn.metrics import accuracy_score, confusion_matrix, f1_score, precision_score, recall_score\n",
    "from sklearn.model_selection import cross_val_score, train_test_split, GridSearchCV\n",
    "from sklearn.preprocessing import LabelEncoder\n",
    "from sklearn.utils.validation import check_is_fitted, check_X_y\n",
    "from sklearn.tree import DecisionTreeClassifier\n",
    "from sklearn.naive_bayes import GaussianNB\n",
    "from nltk.stem import PorterStemmer, WordNetLemmatizer\n",
    "from nltk.corpus import wordnet, stopwords\n",
    "from nltk.tokenize import word_tokenize\n"
   ]
  },
  {
   "cell_type": "code",
   "execution_count": 24,
   "id": "1c94f659",
   "metadata": {},
   "outputs": [],
   "source": [
    "df = pd.read_csv('train_data_clean.csv')"
   ]
  },
  {
   "cell_type": "code",
   "execution_count": 25,
   "id": "b98203aa",
   "metadata": {},
   "outputs": [
    {
     "data": {
      "text/plain": [
       "Index(['id', 'Sentence', 'Label'], dtype='object')"
      ]
     },
     "execution_count": 25,
     "metadata": {},
     "output_type": "execute_result"
    }
   ],
   "source": [
    "df.columns"
   ]
  },
  {
   "cell_type": "code",
   "execution_count": 26,
   "id": "430f8a8a",
   "metadata": {},
   "outputs": [
    {
     "data": {
      "text/plain": [
       "neutral     5264\n",
       "positive    4634\n",
       "negative    4102\n",
       "Name: Label, dtype: int64"
      ]
     },
     "execution_count": 26,
     "metadata": {},
     "output_type": "execute_result"
    }
   ],
   "source": [
    "df['Label'].value_counts()"
   ]
  },
  {
   "cell_type": "code",
   "execution_count": 27,
   "id": "e9db2cef",
   "metadata": {},
   "outputs": [
    {
     "data": {
      "text/plain": [
       "id     Sentence  Label\n",
       "False  False     False    14000\n",
       "dtype: int64"
      ]
     },
     "execution_count": 27,
     "metadata": {},
     "output_type": "execute_result"
    }
   ],
   "source": [
    "df.isnull().value_counts()"
   ]
  },
  {
   "cell_type": "code",
   "execution_count": 29,
   "id": "2f897bd9",
   "metadata": {},
   "outputs": [],
   "source": [
    "df = df[df['Sentence'].isnull() == False]\n",
    "df = df[df['Label'].isnull() == False]"
   ]
  },
  {
   "cell_type": "code",
   "execution_count": 30,
   "id": "34e131d2",
   "metadata": {},
   "outputs": [
    {
     "data": {
      "text/plain": [
       "id     Sentence  Label\n",
       "False  False     False    14000\n",
       "dtype: int64"
      ]
     },
     "execution_count": 30,
     "metadata": {},
     "output_type": "execute_result"
    }
   ],
   "source": [
    "df.isnull().value_counts()"
   ]
  },
  {
   "cell_type": "code",
   "execution_count": 34,
   "id": "517ae88b",
   "metadata": {},
   "outputs": [
    {
     "data": {
      "text/plain": [
       "neutral     5264\n",
       "positive    4634\n",
       "negative    4102\n",
       "Name: Label, dtype: int64"
      ]
     },
     "execution_count": 34,
     "metadata": {},
     "output_type": "execute_result"
    }
   ],
   "source": [
    "df['Label'].value_counts()"
   ]
  },
  {
   "cell_type": "code",
   "execution_count": 35,
   "id": "afb56d56",
   "metadata": {},
   "outputs": [
    {
     "name": "stdout",
     "output_type": "stream",
     "text": [
      "<class 'pandas.core.frame.DataFrame'>\n",
      "Int64Index: 14000 entries, 0 to 13999\n",
      "Data columns (total 3 columns):\n",
      " #   Column    Non-Null Count  Dtype \n",
      "---  ------    --------------  ----- \n",
      " 0   id        14000 non-null  int64 \n",
      " 1   Sentence  14000 non-null  object\n",
      " 2   Label     14000 non-null  object\n",
      "dtypes: int64(1), object(2)\n",
      "memory usage: 437.5+ KB\n"
     ]
    }
   ],
   "source": [
    "df.info()"
   ]
  },
  {
   "cell_type": "code",
   "execution_count": 36,
   "id": "7b582cc4",
   "metadata": {},
   "outputs": [
    {
     "data": {
      "text/plain": [
       "id     Sentence  Label\n",
       "False  False     False    14000\n",
       "dtype: int64"
      ]
     },
     "execution_count": 36,
     "metadata": {},
     "output_type": "execute_result"
    }
   ],
   "source": [
    "df.isnull().value_counts()"
   ]
  },
  {
   "cell_type": "code",
   "execution_count": 37,
   "id": "bae46eac",
   "metadata": {},
   "outputs": [],
   "source": [
    "df['Sentence'] = df['Sentence'].str.lower()"
   ]
  },
  {
   "cell_type": "code",
   "execution_count": 38,
   "id": "83148d80",
   "metadata": {},
   "outputs": [
    {
     "data": {
      "text/plain": [
       "0      nen vist bolest vztek smutek zmatek osam lost...\n",
       "1      nehantics haan yaar neha kab karega woh post ...\n",
       "2      rahulgandhi television media congress ke liye...\n",
       "3      amitshah narendramodi all india me nrc lagu k...\n",
       "4      nehr who typomantri anjanaomkashyap pagal hai...\n",
       "5      narendramodi jeet ki dher sari subh kamnaye m...\n",
       "6      fakeionist samjhotaxpress plichapel but topi ...\n",
       "7      aajtak syedasimwaqar chitraaum syedzafarbjp y...\n",
       "8      tarekfatah baih tere itjey kya jalti hai paki...\n",
       "9      desimarthastew hehe i saw that coming and it ...\n",
       "10     ecisveep can you answer miscalculated votes o...\n",
       "11     mahaali3320 allah pak os k dil ka darwaza kbi...\n",
       "12     ravishkumarblog bahut hi samajhdari se cingre...\n",
       "13     rt mastani4423509 tu safar mera tu hi meri ma...\n",
       "14     dobar se pm bnne ki aapko dher sari shubhakam...\n",
       "15     siitae we can face life together and we can s...\n",
       "16     waah kisi ne khub likha ke shama khud ko jala...\n",
       "17     its tani yabikikainaaat abe haattt tum flop l...\n",
       "18     marrjao shining star77 ohho very beautiful ey...\n",
       "19       evryone shit the fuck up https t co rinomqkpsz\n",
       "20     atifthepoet haram khor log ulta chor kotowal ...\n",
       "21     rt bts army fin also stade de france is prepa...\n",
       "22     aajtak jai shree ram jarurat nahi aandolan ki...\n",
       "23     phir se lut chalu ho gaya bjp walo tumhe kuch...\n",
       "24     amarujalanews jinko khud nahi pta ki ramchari...\n",
       "25     abe yhi hai ram rajya kya jisme sbhi sale har...\n",
       "26     nsfw hs maybe i'll faing and i won't feel a t...\n",
       "27     duniya me dil koi kabhi na dadka hota dadkha ...\n",
       "28         i'm poor poor-ever happy kase god is with me\n",
       "29     madam sushmaswaraj ji we always miss you as a...\n",
       "30     abhisar sharma newsclickin saw the episode ni...\n",
       "31     theskindoctor13 happy birthday doctor sahab b...\n",
       "32     indiatoday teri kimat dokodi ki ho gayi amit ...\n",
       "33     sahibasafeena rubikaliyaquat ek bhe poj bhai ...\n",
       "34     mamataofficial mamta banerjee na jane ho kya ...\n",
       "35     sakshijoshii still far better than mms govt s...\n",
       "36     sunoo chanda make a gentle and nice relation ...\n",
       "37             sunoo chanda should i hope fr the best d\n",
       "38     woo hoo cricket world cup starts today good l...\n",
       "39     munneb11 family background ka keh ni sqtai ca...\n",
       "40     drmanojrajoria maheshy01559101 mp sahab dr ma...\n",
       "41     koi apna nahi ghum k maare murdered raped fuc...\n",
       "42     back to again karate chopped that cold quickl...\n",
       "43     rt beingashu52627 arvindkejriwal sadji kisi n...\n",
       "44     nitin gadkari sir badhai ho sir agra ke meyar...\n",
       "45     rt dillidurast this painting has famous india...\n",
       "46           i m so fckn pist i lost my damn ysl shades\n",
       "47     i give araki a lot of credit for how kuch det...\n",
       "48     modi ji ye sab to hota rahega lekin pehle ram...\n",
       "49     indiatoday pagol kuute ke samne roti dalna sa...\n",
       "Name: Sentence, dtype: object"
      ]
     },
     "execution_count": 38,
     "metadata": {},
     "output_type": "execute_result"
    }
   ],
   "source": [
    "df['Sentence'].head(50)"
   ]
  },
  {
   "cell_type": "code",
   "execution_count": 39,
   "id": "741fcf85",
   "metadata": {},
   "outputs": [
    {
     "data": {
      "text/plain": [
       "0     nen vist bolest vztek smutek zmatek osam lose ...\n",
       "1     nehant haan yaar neha kab karega woh post usn ...\n",
       "2     rahulgandhi televis media congress ke liy nhi ...\n",
       "3     amitshah narendramodi all india me nrc lagu ka...\n",
       "4     nehr who typomantri anjanaomkashyap pagal hai ...\n",
       "5     narendramodi jeet ki dher sari subh kamnay mod...\n",
       "6     fakeionist samjhotaxpress plichapel but topi w...\n",
       "7     aajtak syedasimwaqar chitraaum syedzafarbjp ye...\n",
       "8     tarekfatah baih tere itjey kya jalti hai pakis...\n",
       "9     desimarthastew hehe i saw that come and it s a...\n",
       "10    ecisveep can you answer miscalcul vote on each...\n",
       "11    mahaali3320 allah pak os k dil ka darwaza kbi ...\n",
       "12    ravishkumarblog bahut hi samajhdari se cingres...\n",
       "13    rt mastani4423509 tu safar mera tu hi meri man...\n",
       "14    dobar se pm bnne ki aapko dher sari shubhakamn...\n",
       "15    siita we can face life togeth and we can spend...\n",
       "16    waah kisi ne khub likha ke shama khud ko jala ...\n",
       "17    it tani yabikikainaaat abe haattt tum flop log...\n",
       "18    marrjao shine star77 ohho veri beauti eye yarrrrr\n",
       "19         evryon shit the fuck up http t co rinomqkpsz\n",
       "20    atifthepoet haram khor log ulta chor kotow ko ...\n",
       "21    rt bt armi fin also stade de franc be prepar f...\n",
       "22    aajtak jai shree ram jarurat nahi aandolan ki ...\n",
       "23    phir se lut chalu ho gaya bjp walo tumh kuch c...\n",
       "24    amarujalanew jinko khud nahi pta ki ramcharitm...\n",
       "25    abe yhi hai ram rajya kya jism sbhi sale haram...\n",
       "26      nsfw hs mayb i 'll fa and i wo n't feel a thing\n",
       "27    duniya me dil koi kabhi na dadka hota dadkha h...\n",
       "28          i 'm poor poor-ev happi kase god be with me\n",
       "29    madam sushmaswaraj ji we alway miss you as a v...\n",
       "30    abhisar sharma newsclickin saw the episod nice...\n",
       "31    theskindoctor13 happi birthday doctor sahab bh...\n",
       "32    indiatoday teri kimat dokodi ki ho gayi amit s...\n",
       "33    sahibasafeena rubikaliyaquat ek bhe poj bhai w...\n",
       "34    mamataoffici mamta banerje na jane ho kya hai ...\n",
       "35    sakshijoshii still far better than mm govt so ...\n",
       "36    sunoo chanda make a gentl and nice relat with ...\n",
       "37             sunoo chanda should i hope fr the best d\n",
       "38    woo hoo cricket world cup start today good luc...\n",
       "39    munneb11 famili background ka keh ni sqtai cau...\n",
       "40    drmanojrajoria maheshy01559101 mp sahab dr man...\n",
       "41    koi apna nahi ghum k maar murder rape fuck shr...\n",
       "42    back to again karat chop that cold quickli fee...\n",
       "43    rt beingashu52627 arvindkejriw sadji kisi ne b...\n",
       "44    nitin gadkari sir badhai ho sir agra ke meyar ...\n",
       "45    rt dillidurast thi paint ha famou indian ad hi...\n",
       "46            i m so fckn pist i lose my damn ysl shade\n",
       "47    i give araki a lot of credit for how kuch deta...\n",
       "48    modi ji ye sab to hota rahega lekin pehl ram m...\n",
       "49    indiatoday pagol kuut ke samn roti dalna sahi ...\n",
       "Name: Sentence, dtype: object"
      ]
     },
     "execution_count": 39,
     "metadata": {},
     "output_type": "execute_result"
    }
   ],
   "source": [
    "# Define stemming and lemmatization functions\n",
    "stemmer = PorterStemmer()\n",
    "lemmatizer = WordNetLemmatizer()\n",
    "\n",
    "\n",
    "# Define function to perform stemming on words\n",
    "def perform_stemming(text):\n",
    "    tokens = word_tokenize(text)\n",
    "    stemmed_words = [stemmer.stem(token) for token in tokens]\n",
    "    return ' '.join(stemmed_words)\n",
    "\n",
    "# Define function to perform lemmatization on words\n",
    "def perform_lemmatization(text):\n",
    "    tokens = word_tokenize(text)\n",
    "    lemmatized_words = [lemmatizer.lemmatize(token, pos=wordnet.VERB) for token in tokens]\n",
    "    return ' '.join(lemmatized_words)\n",
    "\n",
    "stop_words_set_eng = set(stopwords.words('english'))\n",
    "\n",
    "stop_words_set_hin = set([\n",
    "    'is', 'ke', 'ka', 'ek', 'hai', 'hain', 'ki', 'ko', 'mein', 'se', 'par', 'bhi', 'ke', 'liye', 'saath',\n",
    "    'ho', 'kar', 'vale', 'vali', 'kuch', 'jo', 'to', 'hi', 'tak', 'ya', 'hote', 'hota', 'tha', 'the',\n",
    "    'ab', 'jab', 'kahaa', 'kisi', 'ne', 'unke', 'uske', 'uski', 'usmein', 'uskoe', 'usse', 'iskay',\n",
    "    'iski', 'ismein', 'iskoe', 'isse', 'tab', 'phir', 'jaise', 'jiske', 'jiskee', 'jismein', 'jiskoe',\n",
    "    'jisse', 'yah', 'yahee', 'ye', 'vah', 'vahee', 've', 'kai', 'kul', 'door', 'parantu', 'aap', 'tum',\n",
    "    'tumhara', 'tumhare', 'main', 'mera', 'mere', 'ham', 'hamara', 'hamare', 'apna', 'apne', 'khud',\n",
    "    'yahan', 'vahan', 'sabka', 'sabke', 'kisi', 'kise', 'sabhi', 'sab', 'koi', 'koi', 'kuch', 'kisi',\n",
    "    'kisi', 'kisi', 'koi', 'dusra', 'any', 'any', 'aur', 'etc', 'etc', 'etc', 'etc', 'etc', 'etc', 'etc'\n",
    "])\n",
    "\n",
    "stop_words_set = stop_words_set_eng | stop_words_set_hin\n",
    "df['Sentence'] = df['Sentence'].apply(perform_stemming)\n",
    "df['Sentence'] = df['Sentence'].apply(perform_lemmatization)\n",
    "df['Sentence'].head(50)"
   ]
  },
  {
   "cell_type": "code",
   "execution_count": 40,
   "id": "a76ff15d",
   "metadata": {},
   "outputs": [
    {
     "data": {
      "text/plain": [
       "<bound method DataFrame.info of           id                                           Sentence     Label\n",
       "0       4330  nen vist bolest vztek smutek zmatek osam lose ...   neutral\n",
       "1      41616  nehant haan yaar neha kab karega woh post usn ...   neutral\n",
       "2       6648  rahulgandhi televis media congress ke liy nhi ...  negative\n",
       "3       2512  amitshah narendramodi all india me nrc lagu ka...  positive\n",
       "4        610  nehr who typomantri anjanaomkashyap pagal hai ...   neutral\n",
       "...      ...                                                ...       ...\n",
       "13995  31686  anandk2012 railminindia irctcoffici piyushgoya...  negative\n",
       "13996  34552  so i could n't get no one to cover me for my b...  positive\n",
       "13997  16924  rt theskindoctor13 najimkhan07 aap logo ki baa...  positive\n",
       "13998   5556  priyaverma ashutosh83b jay jay shree ram ram r...  positive\n",
       "13999   3308  kanpuriya mujh to bhayankar ho gaya hai shayad...   neutral\n",
       "\n",
       "[14000 rows x 3 columns]>"
      ]
     },
     "execution_count": 40,
     "metadata": {},
     "output_type": "execute_result"
    }
   ],
   "source": [
    "df.info"
   ]
  },
  {
   "cell_type": "code",
   "execution_count": 41,
   "id": "b795d60c",
   "metadata": {},
   "outputs": [],
   "source": [
    "# print(stop_words_set)"
   ]
  },
  {
   "cell_type": "code",
   "execution_count": 43,
   "id": "3bab9e2f",
   "metadata": {},
   "outputs": [],
   "source": [
    "# z = []\n",
    "\n",
    "# for wrd in df['Words']:\n",
    "#     if wrd in stop_words_set:\n",
    "#         df.drop(df['Words'] == wrd)\n"
   ]
  },
  {
   "cell_type": "code",
   "execution_count": 46,
   "id": "8551438a",
   "metadata": {},
   "outputs": [],
   "source": [
    "\n",
    "# for i in stop_words_set:\n",
    "#     df = df[df['Words'] != i]\n",
    "\n",
    "def remove_stopwords(tokens):\n",
    "    filtered_tokens = []\n",
    "    for t in tokens.split(' '):\n",
    "        if t not in stop_words_set:\n",
    "            filtered_tokens.append(t)\n",
    "    return ' '.join(filtered_tokens)\n",
    "\n",
    "df['Sentence']= df['Sentence'].apply(remove_stopwords)"
   ]
  },
  {
   "cell_type": "code",
   "execution_count": 45,
   "id": "5e7b6f99",
   "metadata": {},
   "outputs": [
    {
     "data": {
      "text/plain": [
       "<bound method DataFrame.info of           id                                           Sentence     Label\n",
       "0       4330  nen vist bolest vztek smutek zmatek osam lose ...   neutral\n",
       "1      41616  nehant haan yaar neha kab karega woh post usn ...   neutral\n",
       "2       6648  rahulgandhi televis media congress liy nhi h t...  negative\n",
       "3       2512  amitshah narendramodi india nrc lagu kare w ka...  positive\n",
       "4        610  nehr typomantri anjanaomkashyap pagal kya real...   neutral\n",
       "...      ...                                                ...       ...\n",
       "13995  31686  anandk2012 railminindia irctcoffici piyushgoya...  negative\n",
       "13996  34552  could n't get one cover birthday im go open da...  positive\n",
       "13997  16924  rt theskindoctor13 najimkhan07 logo baat nahi ...  positive\n",
       "13998   5556  priyaverma ashutosh83b jay jay shree ram ram r...  positive\n",
       "13999   3308  kanpuriya mujh bhayankar gaya shayad mai sahi ...   neutral\n",
       "\n",
       "[14000 rows x 3 columns]>"
      ]
     },
     "execution_count": 45,
     "metadata": {},
     "output_type": "execute_result"
    }
   ],
   "source": [
    "df.info"
   ]
  },
  {
   "cell_type": "code",
   "execution_count": 56,
   "id": "accad20b",
   "metadata": {},
   "outputs": [],
   "source": [
    "def remove_num(tokens):\n",
    "    filtered_tokens = []\n",
    "    for t in tokens.split(' '):\n",
    "        if t.isnumeric():\n",
    "            continue;\n",
    "        else:\n",
    "            filtered_tokens.append(t)\n",
    "    return ' '.join(filtered_tokens)\n",
    "\n",
    "def remove_space(tokens):\n",
    "    return tokens.strip()\n",
    "df['Sentence']= df['Sentence'].apply(remove_num)\n",
    "df['Sentence']= df['Sentence'].apply(remove_space)"
   ]
  },
  {
   "cell_type": "code",
   "execution_count": 58,
   "id": "cfd2b29c",
   "metadata": {},
   "outputs": [
    {
     "data": {
      "text/plain": [
       "<bound method DataFrame.info of           id                                           Sentence     Label\n",
       "0       4330  nen vist bolest vztek smutek zmatek osam lose ...   neutral\n",
       "1      41616  nehant haan yaar neha kab karega woh post usn ...   neutral\n",
       "2       6648  rahulgandhi televis media congress liy nhi h t...  negative\n",
       "3       2512  amitshah narendramodi india nrc lagu kare w ka...  positive\n",
       "4        610  nehr typomantri anjanaomkashyap pagal kya real...   neutral\n",
       "...      ...                                                ...       ...\n",
       "13995  31686  anandk2012 railminindia irctcoffici piyushgoya...  negative\n",
       "13996  34552  could n't get one cover birthday im go open da...  positive\n",
       "13997  16924  rt theskindoctor13 najimkhan07 logo baat nahi ...  positive\n",
       "13998   5556  priyaverma ashutosh83b jay jay shree ram ram r...  positive\n",
       "13999   3308  kanpuriya mujh bhayankar gaya shayad mai sahi ...   neutral\n",
       "\n",
       "[14000 rows x 3 columns]>"
      ]
     },
     "execution_count": 58,
     "metadata": {},
     "output_type": "execute_result"
    }
   ],
   "source": [
    "df.info"
   ]
  },
  {
   "cell_type": "code",
   "execution_count": 59,
   "id": "d5a69f99",
   "metadata": {},
   "outputs": [],
   "source": [
    "df.info\n",
    "df_test = df['Label']\n",
    "df_test.head(10)\n",
    "df_train = df['Sentence']"
   ]
  },
  {
   "cell_type": "code",
   "execution_count": 61,
   "id": "4ac90dc9",
   "metadata": {},
   "outputs": [
    {
     "data": {
      "text/plain": [
       "0    nen vist bolest vztek smutek zmatek osam lose ...\n",
       "1    nehant haan yaar neha kab karega woh post usn ...\n",
       "2    rahulgandhi televis media congress liy nhi h t...\n",
       "3    amitshah narendramodi india nrc lagu kare w ka...\n",
       "4    nehr typomantri anjanaomkashyap pagal kya real...\n",
       "5    narendramodi jeet dher sari subh kamnay modi j...\n",
       "6    fakeionist samjhotaxpress plichapel topi walay...\n",
       "7    aajtak syedasimwaqar chitraaum syedzafarbjp mo...\n",
       "8    tarekfatah baih tere itjey kya jalti pakistan ...\n",
       "9    desimarthastew hehe saw come actual someon shaadi\n",
       "Name: Sentence, dtype: object"
      ]
     },
     "execution_count": 61,
     "metadata": {},
     "output_type": "execute_result"
    }
   ],
   "source": [
    "df_train.head(10)"
   ]
  },
  {
   "cell_type": "markdown",
   "id": "916749d5",
   "metadata": {},
   "source": [
    "#### Split dataset into 80% training set and 20% combined validation and test set\n",
    "#### Split combined validation and test set into 50% validation set and 50% test set"
   ]
  },
  {
   "cell_type": "code",
   "execution_count": 62,
   "id": "f7aaa91c",
   "metadata": {},
   "outputs": [],
   "source": [
    "\n",
    "X_train, X_val_test, y_train, y_val_test = train_test_split(df_train, df_test, test_size=0.2, random_state=42)\n",
    "\n",
    "\n",
    "X_val, X_test, y_val, y_test = train_test_split(X_val_test, y_val_test, test_size=0.5, random_state=42)\n",
    "\n",
    "\n",
    "vectorizer = TfidfVectorizer(sublinear_tf=True, encoding='utf-8', decode_error='ignore', stop_words='english')\n",
    "X_train_tfidf = vectorizer.fit_transform(X_train)\n",
    "X_test_tfidf = vectorizer.transform(X_test)\n",
    "\n"
   ]
  },
  {
   "cell_type": "code",
   "execution_count": 63,
   "id": "1d7aeb6b",
   "metadata": {},
   "outputs": [
    {
     "name": "stdout",
     "output_type": "stream",
     "text": [
      "Logistic Regression:\n",
      "Accuracy:  0.605\n",
      "Precision:  0.6030917960900032\n",
      "Recall:  0.605\n",
      "F1 Score:  0.603736823128473\n"
     ]
    }
   ],
   "source": [
    "'''\n",
    "Logistic Regression\n",
    "Traning and calculating the metrics for the predicted output\n",
    "'''\n",
    "\n",
    "lr_model = LogisticRegression(max_iter=1000)\n",
    "lr_model.fit(X_train_tfidf, y_train)\n",
    "y_pred_lr = lr_model.predict(X_test_tfidf)\n",
    "\n",
    "accuracy_lr = accuracy_score(y_test, y_pred_lr)\n",
    "precision_lr = precision_score(y_test, y_pred_lr, average='weighted')\n",
    "recall_lr = recall_score(y_test, y_pred_lr, average='weighted')\n",
    "f1_score_lr = f1_score(y_test, y_pred_lr, average='weighted')\n",
    "\n",
    "\n",
    "print(\"Logistic Regression:\")\n",
    "print(\"Accuracy: \", accuracy_lr)\n",
    "print(\"Precision: \", precision_lr)\n",
    "print(\"Recall: \", recall_lr)\n",
    "print(\"F1 Score: \", f1_score_lr)"
   ]
  },
  {
   "cell_type": "code",
   "execution_count": 64,
   "id": "45e2185e",
   "metadata": {},
   "outputs": [
    {
     "name": "stdout",
     "output_type": "stream",
     "text": [
      "\n",
      "Decision Tree:\n",
      "Accuracy:  0.5207142857142857\n",
      "Precision:  0.5221932125129237\n",
      "Recall:  0.5207142857142857\n",
      "F1 Score:  0.5206642607367593\n"
     ]
    }
   ],
   "source": [
    "'''\n",
    "Decision Tree \n",
    "Traning and calculating the metrics for the predicted output\n",
    "'''\n",
    "\n",
    "dt_model = DecisionTreeClassifier()\n",
    "dt_model.fit(X_train_tfidf, y_train)\n",
    "\n",
    "# Make predictions on test set using decision tree model\n",
    "y_pred_dt = dt_model.predict(X_test_tfidf)\n",
    "\n",
    "# Calculate metrics for decision tree model\n",
    "accuracy_dt = accuracy_score(y_test, y_pred_dt)\n",
    "precision_dt = precision_score(y_test, y_pred_dt, average='weighted')\n",
    "recall_dt = recall_score(y_test, y_pred_dt, average='weighted')\n",
    "f1_score_dt = f1_score(y_test, y_pred_dt, average='weighted')\n",
    "\n",
    "print(\"\\nDecision Tree:\")\n",
    "print(\"Accuracy: \", accuracy_dt)\n",
    "print(\"Precision: \", precision_dt)\n",
    "print(\"Recall: \", recall_dt)\n",
    "print(\"F1 Score: \", f1_score_dt)"
   ]
  }
 ],
 "metadata": {
  "kernelspec": {
   "display_name": "Python 3 (ipykernel)",
   "language": "python",
   "name": "python3"
  },
  "language_info": {
   "codemirror_mode": {
    "name": "ipython",
    "version": 3
   },
   "file_extension": ".py",
   "mimetype": "text/x-python",
   "name": "python",
   "nbconvert_exporter": "python",
   "pygments_lexer": "ipython3",
   "version": "3.10.8"
  }
 },
 "nbformat": 4,
 "nbformat_minor": 5
}
